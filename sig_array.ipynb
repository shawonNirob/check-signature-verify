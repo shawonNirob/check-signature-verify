{
 "cells": [
  {
   "cell_type": "code",
   "execution_count": 3,
   "id": "731b27d1-b146-4e6b-ba5a-8bae48ab2030",
   "metadata": {},
   "outputs": [],
   "source": [
    "check = [\n",
    "    \"check_signature_test_case/check/al_arafah_mehedy.jpeg\",\n",
    "    #\"check_signature_test_case/check/community_tareq.jpeg\",\n",
    "    \"check_signature_test_case/check/ncc_anik.jpeg\",\n",
    "]\n",
    "\n",
    "signatures = [\n",
    "    \"check_signature_test_case/signature/anik_1.jpeg\",\n",
    "    \"check_signature_test_case/signature/anik_2.jpeg\",\n",
    "    \"check_signature_test_case/signature/bangla_1.jpeg\",\n",
    "    \"check_signature_test_case/signature/bangla_2.jpeg\",\n",
    "    \"check_signature_test_case/signature/mehedy_1.jpeg\",\n",
    "    \"check_signature_test_case/signature/mehedy_2.jpeg\",\n",
    "    #\"check_signature_test_case/signature/tareq_1.jpeg\",\n",
    "    #\"check_signature_test_case/signature/tareq_2.jpeg\",\n",
    "]\n",
    "\n"
   ]
  },
  {
   "cell_type": "code",
   "execution_count": null,
   "id": "ff240748-b0a4-45c2-b9be-5312b1743eb8",
   "metadata": {},
   "outputs": [],
   "source": [
    "pip install torch torchvision torchaudio ultralytics pillow pytesseract numpy opencv-python matplotlib\n",
    "pip install scikit-learn matplotlib transformers "
   ]
  },
  {
   "cell_type": "code",
   "execution_count": null,
   "id": "46bb4635-26d6-47fb-81bf-44cd1caabf0d",
   "metadata": {},
   "outputs": [],
   "source": []
  }
 ],
 "metadata": {
  "kernelspec": {
   "display_name": "Python 3 (ipykernel)",
   "language": "python",
   "name": "python3"
  },
  "language_info": {
   "codemirror_mode": {
    "name": "ipython",
    "version": 3
   },
   "file_extension": ".py",
   "mimetype": "text/x-python",
   "name": "python",
   "nbconvert_exporter": "python",
   "pygments_lexer": "ipython3",
   "version": "3.10.13"
  }
 },
 "nbformat": 4,
 "nbformat_minor": 5
}
