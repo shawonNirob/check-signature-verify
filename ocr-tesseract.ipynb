{
 "cells": [
  {
   "cell_type": "code",
   "execution_count": 7,
   "id": "43f672cf-a09b-4478-9420-ff7eece8eee2",
   "metadata": {
    "id": "43f672cf-a09b-4478-9420-ff7eece8eee2",
    "outputId": "26564e36-b624-431a-8d8f-63eb7791b1d4",
    "scrolled": true
   },
   "outputs": [
    {
     "name": "stdout",
     "output_type": "stream",
     "text": [
      "Requirement already satisfied: pillow in /Users/shawon/.pyenv/versions/3.10.13/lib/python3.10/site-packages (11.2.1)\n",
      "Requirement already satisfied: pytesseract in /Users/shawon/.pyenv/versions/3.10.13/lib/python3.10/site-packages (0.3.13)\n",
      "Requirement already satisfied: packaging>=21.3 in /Users/shawon/.pyenv/versions/3.10.13/lib/python3.10/site-packages (from pytesseract) (24.2)\n",
      "Note: you may need to restart the kernel to use updated packages.\n"
     ]
    }
   ],
   "source": [
    "pip install pillow pytesseract\n"
   ]
  },
  {
   "cell_type": "code",
   "execution_count": 2,
   "id": "67767200-0d55-4ed4-96ac-9398da208697",
   "metadata": {
    "id": "67767200-0d55-4ed4-96ac-9398da208697",
    "outputId": "97a6d9b2-2b6f-4a7d-ff2b-2a5e28143cde"
   },
   "outputs": [
    {
     "name": "stdout",
     "output_type": "stream",
     "text": [
      "\n",
      "--- OCR Output ---\n",
      "\n",
      "AIB\n",
      "\n",
      "“ep? 4229740\n",
      "\n",
      "aibl(A) Giiei- birgTerTS\n",
      "<< | SRT ase fee\n",
      "\n",
      "_BANANI (015260435)\n",
      "\n",
      "es\n",
      "Branch ‘ oS\n",
      "P Pay To ee a sani Se ___Or Bearer\n",
      ";\n",
      "ag |\n",
      "| he Sum of Taka eee 'Tk\n",
      "| j\n",
      "- —— eee\n",
      "*  AL-WADIAH CURRENT ACCOUNT NO.\n",
      "NAZTECH INC LIMITED Hi s\n",
      "A/C No. 0201020015855\n",
      "\n",
      "Please Sign Above This Line\n",
      "\n",
      "“G229?L0\" O152604451 OcOsO200iS8s55 3\n",
      "\n",
      "\n",
      "\n",
      "--- Extracted Info ---\n",
      "\n",
      "{\n",
      "  \"bank_name_en\": null,\n",
      "  \"account_number\": \"0201020015855\",\n",
      "  \"date\": null\n",
      "}\n"
     ]
    }
   ],
   "source": [
    "import pytesseract\n",
    "from PIL import Image, ImageFilter, ImageOps\n",
    "import re\n",
    "import json\n",
    "\n",
    "# specify tesseract path\n",
    "pytesseract.pytesseract.tesseract_cmd = \"/opt/homebrew/bin/tesseract\"\n",
    "\n",
    "# Load image using PIL\n",
    "img_path = \"check_signature_test_case/check/al_arafah_mehedy.jpeg\"\n",
    "image = Image.open(img_path)\n",
    "\n",
    "# Convert to grayscale\n",
    "gray = ImageOps.grayscale(image)\n",
    "\n",
    "# Apply median filter to reduce noise\n",
    "gray = gray.filter(ImageFilter.MedianFilter(size=3))\n",
    "\n",
    "\n",
    "# OCR text extraction(bangla+english)\n",
    "#text = pytesseract.image_to_string(gray, lang='ben+eng')\n",
    "\n",
    "text = pytesseract.image_to_string(gray, lang='eng')\n",
    "\n",
    "\n",
    "# Print the full OCR text (for debugging)\n",
    "print(\"\\n--- OCR Output ---\\n\")\n",
    "print(text)\n",
    "\n",
    "# Regex extraction rules\n",
    "def extract_bank_name(text):\n",
    "    match = re.search(r'\\b([A-Za-z&]+\\s+Bank(?:\\s+(?:of\\s+\\w+|PLC|Ltd|Limited))?)\\b', text, re.IGNORECASE)\n",
    "    return match.group(1).strip() if match else None\n",
    "\n",
    "#def extract_bangla_bank_name(text):\n",
    "    #match = re.search(r'([অ-ঔক-হড়ঢ়য়ংঃঁ\\s্]+ব্যাংক(?:\\s+লিমিটেড|পিএলসি|লিঃ)?)', text)\n",
    "    #return match.group(1).strip() if match else None\n",
    "\n",
    "\n",
    "def extract_account_number(text):\n",
    "    match = re.search(r'\\b\\d{10,16}\\b', text)\n",
    "    return match.group(0) if match else None\n",
    "\n",
    "def extract_date(text):\n",
    "    match = re.search(r'\\b(\\d{2}[-/]\\d{2}[-/]\\d{4}|\\d{8})\\b', text)\n",
    "    return match.group(1) if match else None\n",
    "\n",
    "extracted_data = {\n",
    "    \"bank_name_en\": extract_bank_name(text),\n",
    "    #\"bank_name_bn\": extract_bangla_bank_name(text),\n",
    "    \"account_number\": extract_account_number(text),\n",
    "    \"date\": extract_date(text)\n",
    "}\n",
    "\n",
    "\n",
    "print(\"\\n--- Extracted Info ---\\n\")\n",
    "#print(extracted_data)\n",
    "print(json.dumps(extracted_data, indent=2))\n"
   ]
  },
  {
   "cell_type": "code",
   "execution_count": null,
   "id": "94ebf339-fbdf-4046-9208-6e4c1a5294c4",
   "metadata": {},
   "outputs": [],
   "source": []
  }
 ],
 "metadata": {
  "colab": {
   "provenance": []
  },
  "kernelspec": {
   "display_name": "Python 3 (ipykernel)",
   "language": "python",
   "name": "python3"
  },
  "language_info": {
   "codemirror_mode": {
    "name": "ipython",
    "version": 3
   },
   "file_extension": ".py",
   "mimetype": "text/x-python",
   "name": "python",
   "nbconvert_exporter": "python",
   "pygments_lexer": "ipython3",
   "version": "3.10.13"
  }
 },
 "nbformat": 4,
 "nbformat_minor": 5
}
