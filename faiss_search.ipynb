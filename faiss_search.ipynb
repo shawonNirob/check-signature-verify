{
 "cells": [
  {
   "cell_type": "code",
   "execution_count": 1,
   "id": "3e379dae-e968-48dc-94f5-7d9a2bf15a4d",
   "metadata": {},
   "outputs": [
    {
     "name": "stdout",
     "output_type": "stream",
     "text": [
      "Requirement already satisfied: numpy in /Users/shawon/.pyenv/versions/3.10.13/lib/python3.10/site-packages (2.1.3)\n",
      "Note: you may need to restart the kernel to use updated packages.\n"
     ]
    }
   ],
   "source": [
    "pip install numpy"
   ]
  },
  {
   "cell_type": "code",
   "execution_count": 2,
   "id": "c21489a1-55e6-475f-b061-88070746bbb1",
   "metadata": {
    "scrolled": true
   },
   "outputs": [
    {
     "name": "stdout",
     "output_type": "stream",
     "text": [
      "Requirement already satisfied: faiss-cpu in /Users/shawon/.pyenv/versions/3.10.13/lib/python3.10/site-packages (1.11.0)\n",
      "Requirement already satisfied: numpy<3.0,>=1.25.0 in /Users/shawon/.pyenv/versions/3.10.13/lib/python3.10/site-packages (from faiss-cpu) (2.1.3)\n",
      "Requirement already satisfied: packaging in /Users/shawon/.pyenv/versions/3.10.13/lib/python3.10/site-packages (from faiss-cpu) (24.2)\n",
      "Note: you may need to restart the kernel to use updated packages.\n"
     ]
    }
   ],
   "source": [
    "pip install faiss-cpu"
   ]
  },
  {
   "cell_type": "code",
   "execution_count": 20,
   "id": "059fa7c4-dd47-48f4-92f8-139a9e28bfa7",
   "metadata": {},
   "outputs": [
    {
     "name": "stdout",
     "output_type": "stream",
     "text": [
      "Top 5 similar vectors: [[8307 5213 8859 6796 6593]]\n",
      "Indices of the 5 nearest vectors: [[14.156952 14.459555 14.812019 15.051109 15.117437]]\n"
     ]
    }
   ],
   "source": [
    "import faiss\n",
    "import numpy as np\n",
    "\n",
    "dimension = 128\n",
    "num_vectors = 10000\n",
    "vectors = np.random.random((num_vectors, dimension)).astype('float32')\n",
    "\n",
    "nlist = 10 #partitions]\n",
    "quantizer = faiss.IndexFlatL2(dimension) #A flat index that uses L2 (Euclidean), this is for assign vector in partition \n",
    "index = faiss.IndexIVFFlat(quantizer, dimension, nlist) #IVF - Inverted File Indexing\n",
    "\n",
    "index.train(vectors)\n",
    "index.add(vectors)\n",
    "\n",
    "query = np.random.random((1, dimension)).astype('float32')\n",
    "\n",
    "index.nprobe = 2\n",
    "\n",
    "#D = squared L2 distances to the 5 nearest vectors\n",
    "#I = indices of the 5 nearest vectors in the original dataset\n",
    "D, I = index.search(query, k=5) \n",
    "\n",
    "print(\"Top 5 similar vectors:\", I)\n",
    "print(\"Indices of the 5 nearest vectors:\", D)"
   ]
  },
  {
   "cell_type": "code",
   "execution_count": null,
   "id": "6cd46493-af35-4f5a-a649-dbbfe6d5efb6",
   "metadata": {},
   "outputs": [],
   "source": []
  }
 ],
 "metadata": {
  "kernelspec": {
   "display_name": "Python 3 (ipykernel)",
   "language": "python",
   "name": "python3"
  },
  "language_info": {
   "codemirror_mode": {
    "name": "ipython",
    "version": 3
   },
   "file_extension": ".py",
   "mimetype": "text/x-python",
   "name": "python",
   "nbconvert_exporter": "python",
   "pygments_lexer": "ipython3",
   "version": "3.10.13"
  }
 },
 "nbformat": 4,
 "nbformat_minor": 5
}
