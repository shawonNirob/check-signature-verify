{
 "cells": [
  {
   "cell_type": "code",
   "execution_count": 1,
   "metadata": {
    "colab": {
     "base_uri": "https://localhost:8080/"
    },
    "executionInfo": {
     "elapsed": 4671,
     "status": "ok",
     "timestamp": 1747825322530,
     "user": {
      "displayName": "Shawon Sarowar Nirob",
      "userId": "17918485046439093245"
     },
     "user_tz": -360
    },
    "id": "f6XFybDjfvjg",
    "outputId": "6844e70b-6e18-4190-926b-028bb0fddebe"
   },
   "outputs": [
    {
     "name": "stdout",
     "output_type": "stream",
     "text": [
      "Collecting scikit-learn\n",
      "  Downloading scikit_learn-1.6.1-cp310-cp310-macosx_12_0_arm64.whl.metadata (31 kB)\n",
      "Requirement already satisfied: matplotlib in /Users/shawon/.pyenv/versions/3.10.13/lib/python3.10/site-packages (3.10.3)\n",
      "Requirement already satisfied: pillow in /Users/shawon/.pyenv/versions/3.10.13/lib/python3.10/site-packages (11.2.1)\n",
      "Requirement already satisfied: transformers in /Users/shawon/.pyenv/versions/3.10.13/lib/python3.10/site-packages (4.52.1)\n",
      "Requirement already satisfied: torch in /Users/shawon/.pyenv/versions/3.10.13/lib/python3.10/site-packages (2.7.0)\n",
      "Requirement already satisfied: torchvision in /Users/shawon/.pyenv/versions/3.10.13/lib/python3.10/site-packages (0.22.0)\n",
      "Requirement already satisfied: numpy in /Users/shawon/.pyenv/versions/3.10.13/lib/python3.10/site-packages (2.2.5)\n",
      "Requirement already satisfied: scipy>=1.6.0 in /Users/shawon/.pyenv/versions/3.10.13/lib/python3.10/site-packages (from scikit-learn) (1.15.3)\n",
      "Collecting joblib>=1.2.0 (from scikit-learn)\n",
      "  Downloading joblib-1.5.0-py3-none-any.whl.metadata (5.6 kB)\n",
      "Collecting threadpoolctl>=3.1.0 (from scikit-learn)\n",
      "  Using cached threadpoolctl-3.6.0-py3-none-any.whl.metadata (13 kB)\n",
      "Requirement already satisfied: contourpy>=1.0.1 in /Users/shawon/.pyenv/versions/3.10.13/lib/python3.10/site-packages (from matplotlib) (1.3.2)\n",
      "Requirement already satisfied: cycler>=0.10 in /Users/shawon/.pyenv/versions/3.10.13/lib/python3.10/site-packages (from matplotlib) (0.12.1)\n",
      "Requirement already satisfied: fonttools>=4.22.0 in /Users/shawon/.pyenv/versions/3.10.13/lib/python3.10/site-packages (from matplotlib) (4.58.0)\n",
      "Requirement already satisfied: kiwisolver>=1.3.1 in /Users/shawon/.pyenv/versions/3.10.13/lib/python3.10/site-packages (from matplotlib) (1.4.8)\n",
      "Requirement already satisfied: packaging>=20.0 in /Users/shawon/.pyenv/versions/3.10.13/lib/python3.10/site-packages (from matplotlib) (24.2)\n",
      "Requirement already satisfied: pyparsing>=2.3.1 in /Users/shawon/.pyenv/versions/3.10.13/lib/python3.10/site-packages (from matplotlib) (3.2.3)\n",
      "Requirement already satisfied: python-dateutil>=2.7 in /Users/shawon/.pyenv/versions/3.10.13/lib/python3.10/site-packages (from matplotlib) (2.9.0.post0)\n",
      "Requirement already satisfied: filelock in /Users/shawon/.pyenv/versions/3.10.13/lib/python3.10/site-packages (from transformers) (3.18.0)\n",
      "Requirement already satisfied: huggingface-hub<1.0,>=0.30.0 in /Users/shawon/.pyenv/versions/3.10.13/lib/python3.10/site-packages (from transformers) (0.31.4)\n",
      "Requirement already satisfied: pyyaml>=5.1 in /Users/shawon/.pyenv/versions/3.10.13/lib/python3.10/site-packages (from transformers) (6.0.2)\n",
      "Requirement already satisfied: regex!=2019.12.17 in /Users/shawon/.pyenv/versions/3.10.13/lib/python3.10/site-packages (from transformers) (2024.11.6)\n",
      "Requirement already satisfied: requests in /Users/shawon/.pyenv/versions/3.10.13/lib/python3.10/site-packages (from transformers) (2.32.3)\n",
      "Requirement already satisfied: tokenizers<0.22,>=0.21 in /Users/shawon/.pyenv/versions/3.10.13/lib/python3.10/site-packages (from transformers) (0.21.1)\n",
      "Requirement already satisfied: safetensors>=0.4.3 in /Users/shawon/.pyenv/versions/3.10.13/lib/python3.10/site-packages (from transformers) (0.5.3)\n",
      "Requirement already satisfied: tqdm>=4.27 in /Users/shawon/.pyenv/versions/3.10.13/lib/python3.10/site-packages (from transformers) (4.67.1)\n",
      "Requirement already satisfied: fsspec>=2023.5.0 in /Users/shawon/.pyenv/versions/3.10.13/lib/python3.10/site-packages (from huggingface-hub<1.0,>=0.30.0->transformers) (2025.5.0)\n",
      "Requirement already satisfied: typing-extensions>=3.7.4.3 in /Users/shawon/.pyenv/versions/3.10.13/lib/python3.10/site-packages (from huggingface-hub<1.0,>=0.30.0->transformers) (4.13.2)\n",
      "Requirement already satisfied: sympy>=1.13.3 in /Users/shawon/.pyenv/versions/3.10.13/lib/python3.10/site-packages (from torch) (1.14.0)\n",
      "Requirement already satisfied: networkx in /Users/shawon/.pyenv/versions/3.10.13/lib/python3.10/site-packages (from torch) (3.4.2)\n",
      "Requirement already satisfied: jinja2 in /Users/shawon/.pyenv/versions/3.10.13/lib/python3.10/site-packages (from torch) (3.1.6)\n",
      "Requirement already satisfied: six>=1.5 in /Users/shawon/.pyenv/versions/3.10.13/lib/python3.10/site-packages (from python-dateutil>=2.7->matplotlib) (1.17.0)\n",
      "Requirement already satisfied: mpmath<1.4,>=1.1.0 in /Users/shawon/.pyenv/versions/3.10.13/lib/python3.10/site-packages (from sympy>=1.13.3->torch) (1.3.0)\n",
      "Requirement already satisfied: MarkupSafe>=2.0 in /Users/shawon/.pyenv/versions/3.10.13/lib/python3.10/site-packages (from jinja2->torch) (3.0.2)\n",
      "Requirement already satisfied: charset-normalizer<4,>=2 in /Users/shawon/.pyenv/versions/3.10.13/lib/python3.10/site-packages (from requests->transformers) (3.4.2)\n",
      "Requirement already satisfied: idna<4,>=2.5 in /Users/shawon/.pyenv/versions/3.10.13/lib/python3.10/site-packages (from requests->transformers) (3.10)\n",
      "Requirement already satisfied: urllib3<3,>=1.21.1 in /Users/shawon/.pyenv/versions/3.10.13/lib/python3.10/site-packages (from requests->transformers) (2.4.0)\n",
      "Requirement already satisfied: certifi>=2017.4.17 in /Users/shawon/.pyenv/versions/3.10.13/lib/python3.10/site-packages (from requests->transformers) (2025.4.26)\n",
      "Downloading scikit_learn-1.6.1-cp310-cp310-macosx_12_0_arm64.whl (11.1 MB)\n",
      "\u001b[2K   \u001b[38;2;114;156;31m━━━━━━━━━━━━━━━━━━━━━━━━━━━━━━━━━━━━━━━━\u001b[0m \u001b[32m11.1/11.1 MB\u001b[0m \u001b[31m162.9 kB/s\u001b[0m eta \u001b[36m0:00:00\u001b[0mm eta \u001b[36m0:00:01\u001b[0m[36m0:00:03\u001b[0m\n",
      "\u001b[?25hDownloading joblib-1.5.0-py3-none-any.whl (307 kB)\n",
      "Using cached threadpoolctl-3.6.0-py3-none-any.whl (18 kB)\n",
      "Installing collected packages: threadpoolctl, joblib, scikit-learn\n",
      "\u001b[2K   \u001b[38;2;114;156;31m━━━━━━━━━━━━━━━━━━━━━━━━━━━━━━━━━━━━━━━━\u001b[0m \u001b[32m3/3\u001b[0m [scikit-learn]━━━━━\u001b[0m \u001b[32m2/3\u001b[0m [scikit-learn]\n",
      "\u001b[1A\u001b[2KSuccessfully installed joblib-1.5.0 scikit-learn-1.6.1 threadpoolctl-3.6.0\n",
      "Note: you may need to restart the kernel to use updated packages.\n"
     ]
    }
   ],
   "source": [
    "pip install scikit-learn matplotlib pillow transformers torch torchvision numpy"
   ]
  },
  {
   "cell_type": "code",
   "execution_count": 6,
   "metadata": {
    "colab": {
     "base_uri": "https://localhost:8080/",
     "height": 325
    },
    "executionInfo": {
     "elapsed": 815,
     "status": "ok",
     "timestamp": 1747826462760,
     "user": {
      "displayName": "Shawon Sarowar Nirob",
      "userId": "17918485046439093245"
     },
     "user_tz": -360
    },
    "id": "0tKMVeG-jWIL",
    "outputId": "7937c70e-45d6-4ee7-f1a1-d802350a86f7"
   },
   "outputs": [
    {
     "name": "stdout",
     "output_type": "stream",
     "text": [
      "Cosine Similarity: 1.0000\n",
      "✅ Genuine Signature\n"
     ]
    },
    {
     "data": {
      "image/png": "[encoded data removed]",
      "text/plain": [
       "<Figure size 1000x400 with 2 Axes>"
      ]
     },
     "metadata": {},
     "output_type": "display_data"
    }
   ],
   "source": [
    "# Cell 1: Imports and Setup\n",
    "import torch\n",
    "import torch.nn as nn\n",
    "from torchvision import transforms\n",
    "from PIL import Image\n",
    "import numpy as np\n",
    "from sklearn.metrics.pairwise import cosine_similarity\n",
    "import matplotlib.pyplot as plt\n",
    "\n",
    "# Cell 2: Define CNN Model\n",
    "class SignatureCNN(nn.Module):\n",
    "    def __init__(self):\n",
    "        super(SignatureCNN, self).__init__()\n",
    "        self.features = nn.Sequential(\n",
    "            nn.Conv2d(1, 32, 3, padding=1),\n",
    "            nn.ReLU(),\n",
    "            nn.MaxPool2d(2),\n",
    "            nn.Conv2d(32, 64, 3, padding=1),\n",
    "            nn.ReLU(),\n",
    "            nn.MaxPool2d(2),\n",
    "        )\n",
    "        self.flatten = nn.Flatten()\n",
    "        self.fc = nn.Linear(64 * 32 * 32, 256)\n",
    "\n",
    "    def forward(self, x):\n",
    "        x = self.features(x)\n",
    "        x = self.flatten(x)\n",
    "        x = self.fc(x)\n",
    "        return x\n",
    "\n",
    "# Cell 3: Image Preprocessing Function\n",
    "transform = transforms.Compose([\n",
    "    transforms.Grayscale(),\n",
    "    transforms.Resize((128, 128)),\n",
    "    transforms.ToTensor()\n",
    "])\n",
    "\n",
    "def image_to_vector(model, image_path):\n",
    "    image = Image.open(image_path).convert(\"RGB\")\n",
    "    tensor = transform(image).unsqueeze(0)\n",
    "    with torch.no_grad():\n",
    "        embedding = model(tensor)\n",
    "    return embedding.squeeze().numpy()\n",
    "\n",
    "# Cell 4: Similarity Comparison Function\n",
    "def compare_vectors(vec1, vec2):\n",
    "    vec1 = np.array(vec1).reshape(1, -1)\n",
    "    vec2 = np.array(vec2).reshape(1, -1)\n",
    "    similarity = cosine_similarity(vec1, vec2)[0][0]\n",
    "    return similarity\n",
    "\n",
    "# Cell 5: Simulate DB Fetch (Dummy Vector)\n",
    "def get_vector_from_database(account_id):\n",
    "    return image_to_vector(model, \"/content/anik_bank.png\")\n",
    "\n",
    "# Cell 6: Load Model and Evaluate\n",
    "model = SignatureCNN()\n",
    "model.eval()\n",
    "\n",
    "# Load uploaded and stored signature images\n",
    "uploaded_vec = image_to_vector(model, \"/content/anik_check.png\")\n",
    "stored_vec = get_vector_from_database(account_id=\"123456\")\n",
    "\n",
    "# Compare\n",
    "similarity = compare_vectors(uploaded_vec, stored_vec)\n",
    "print(f\"Cosine Similarity: {similarity:.4f}\")\n",
    "\n",
    "if similarity >= 0.85:\n",
    "    print(\"Genuine Signature\")\n",
    "else:\n",
    "    print(\"Forged Signature\")\n",
    "\n",
    "# Cell 7: Visualize both images\n",
    "uploaded_img = Image.open(\"/content/anik_check.png\")\n",
    "stored_img = Image.open(\"/content/anik_bank.png\")\n",
    "\n",
    "fig, axs = plt.subplots(1, 2, figsize=(10, 4))\n",
    "axs[0].imshow(uploaded_img, cmap='gray')\n",
    "axs[0].set_title(\"Uploaded Signature\")\n",
    "axs[0].axis('off')\n",
    "\n",
    "axs[1].imshow(stored_img, cmap='gray')\n",
    "axs[1].set_title(\"Reference Signature\")\n",
    "axs[1].axis('off')\n",
    "\n",
    "plt.tight_layout()\n",
    "plt.show()\n",
    "\n"
   ]
  },
  {
   "cell_type": "code",
   "execution_count": 7,
   "metadata": {
    "colab": {
     "base_uri": "https://localhost:8080/"
    },
    "executionInfo": {
     "elapsed": 3883,
     "status": "ok",
     "timestamp": 1747831947654,
     "user": {
      "displayName": "Shawon Sarowar Nirob",
      "userId": "17918485046439093245"
     },
     "user_tz": -360
    },
    "id": "lykCr2_Gj-OJ",
    "outputId": "ec73e6fc-e37c-4fec-bbd3-7982e230176c"
   },
   "outputs": [
    {
     "name": "stdout",
     "output_type": "stream",
     "text": [
      "Drive already mounted at /content/drive; to attempt to forcibly remount, call drive.mount(\"/content/drive\", force_remount=True).\n"
     ]
    }
   ],
   "source": [
    "from google.colab import drive\n",
    "drive.mount('/content/drive')"
   ]
  },
  {
   "cell_type": "code",
   "execution_count": 10,
   "metadata": {
    "executionInfo": {
     "elapsed": 33,
     "status": "ok",
     "timestamp": 1747832876478,
     "user": {
      "displayName": "Shawon Sarowar Nirob",
      "userId": "17918485046439093245"
     },
     "user_tz": -360
    },
    "id": "THmQjbGF9Aj8"
   },
   "outputs": [],
   "source": [
    "with open('/content/drive/MyDrive/anik_check.png', 'w') as f:\n",
    "    f.write('This is safe')"
   ]
  },
  {
   "cell_type": "code",
   "execution_count": 1,
   "metadata": {
    "colab": {
     "base_uri": "https://localhost:8080/",
     "height": 356
    },
    "executionInfo": {
     "elapsed": 15799,
     "status": "error",
     "timestamp": 1747914416044,
     "user": {
      "displayName": "Shawon Sarowar Nirob",
      "userId": "17918485046439093245"
     },
     "user_tz": -360
    },
    "id": "6fRd6azo0HLZ",
    "outputId": "af0b7056-e039-4978-f2dd-642cb4347888"
   },
   "outputs": [
    {
     "ename": "FileNotFoundError",
     "evalue": "[Errno 2] No such file or directory: '/content/anik_check.png'",
     "output_type": "error",
     "traceback": [
      "\u001b[0;31m---------------------------------------------------------------------------\u001b[0m",
      "\u001b[0;31mFileNotFoundError\u001b[0m                         Traceback (most recent call last)",
      "\u001b[0;32m<ipython-input-1-e93216bd131f>\u001b[0m in \u001b[0;36m<cell line: 0>\u001b[0;34m()\u001b[0m\n\u001b[1;32m     59\u001b[0m \u001b[0;34m\u001b[0m\u001b[0m\n\u001b[1;32m     60\u001b[0m \u001b[0;31m# Load uploaded and stored signature images\u001b[0m\u001b[0;34m\u001b[0m\u001b[0;34m\u001b[0m\u001b[0m\n\u001b[0;32m---> 61\u001b[0;31m \u001b[0muploaded_vec\u001b[0m \u001b[0;34m=\u001b[0m \u001b[0mimage_to_vector\u001b[0m\u001b[0;34m(\u001b[0m\u001b[0mmodel\u001b[0m\u001b[0;34m,\u001b[0m \u001b[0;34m\"/content/anik_check.png\"\u001b[0m\u001b[0;34m)\u001b[0m\u001b[0;34m\u001b[0m\u001b[0;34m\u001b[0m\u001b[0m\n\u001b[0m\u001b[1;32m     62\u001b[0m \u001b[0mstored_vec\u001b[0m \u001b[0;34m=\u001b[0m \u001b[0mget_vector_from_database\u001b[0m\u001b[0;34m(\u001b[0m\u001b[0maccount_id\u001b[0m\u001b[0;34m=\u001b[0m\u001b[0;34m\"123456\"\u001b[0m\u001b[0;34m)\u001b[0m\u001b[0;34m\u001b[0m\u001b[0;34m\u001b[0m\u001b[0m\n\u001b[1;32m     63\u001b[0m \u001b[0;34m\u001b[0m\u001b[0m\n",
      "\u001b[0;32m<ipython-input-1-e93216bd131f>\u001b[0m in \u001b[0;36mimage_to_vector\u001b[0;34m(model, image_path)\u001b[0m\n\u001b[1;32m     37\u001b[0m \u001b[0;34m\u001b[0m\u001b[0m\n\u001b[1;32m     38\u001b[0m \u001b[0;32mdef\u001b[0m \u001b[0mimage_to_vector\u001b[0m\u001b[0;34m(\u001b[0m\u001b[0mmodel\u001b[0m\u001b[0;34m,\u001b[0m \u001b[0mimage_path\u001b[0m\u001b[0;34m)\u001b[0m\u001b[0;34m:\u001b[0m\u001b[0;34m\u001b[0m\u001b[0;34m\u001b[0m\u001b[0m\n\u001b[0;32m---> 39\u001b[0;31m     \u001b[0mimage\u001b[0m \u001b[0;34m=\u001b[0m \u001b[0mImage\u001b[0m\u001b[0;34m.\u001b[0m\u001b[0mopen\u001b[0m\u001b[0;34m(\u001b[0m\u001b[0mimage_path\u001b[0m\u001b[0;34m)\u001b[0m\u001b[0;34m.\u001b[0m\u001b[0mconvert\u001b[0m\u001b[0;34m(\u001b[0m\u001b[0;34m\"RGB\"\u001b[0m\u001b[0;34m)\u001b[0m\u001b[0;34m\u001b[0m\u001b[0;34m\u001b[0m\u001b[0m\n\u001b[0m\u001b[1;32m     40\u001b[0m     \u001b[0mtensor\u001b[0m \u001b[0;34m=\u001b[0m \u001b[0mtransform\u001b[0m\u001b[0;34m(\u001b[0m\u001b[0mimage\u001b[0m\u001b[0;34m)\u001b[0m\u001b[0;34m.\u001b[0m\u001b[0munsqueeze\u001b[0m\u001b[0;34m(\u001b[0m\u001b[0;36m0\u001b[0m\u001b[0;34m)\u001b[0m\u001b[0;34m\u001b[0m\u001b[0;34m\u001b[0m\u001b[0m\n\u001b[1;32m     41\u001b[0m     \u001b[0;32mwith\u001b[0m \u001b[0mtorch\u001b[0m\u001b[0;34m.\u001b[0m\u001b[0mno_grad\u001b[0m\u001b[0;34m(\u001b[0m\u001b[0;34m)\u001b[0m\u001b[0;34m:\u001b[0m\u001b[0;34m\u001b[0m\u001b[0;34m\u001b[0m\u001b[0m\n",
      "\u001b[0;32m/usr/local/lib/python3.11/dist-packages/PIL/Image.py\u001b[0m in \u001b[0;36mopen\u001b[0;34m(fp, mode, formats)\u001b[0m\n\u001b[1;32m   3503\u001b[0m \u001b[0;34m\u001b[0m\u001b[0m\n\u001b[1;32m   3504\u001b[0m     \u001b[0;32mif\u001b[0m \u001b[0mfilename\u001b[0m\u001b[0;34m:\u001b[0m\u001b[0;34m\u001b[0m\u001b[0;34m\u001b[0m\u001b[0m\n\u001b[0;32m-> 3505\u001b[0;31m         \u001b[0mfp\u001b[0m \u001b[0;34m=\u001b[0m \u001b[0mbuiltins\u001b[0m\u001b[0;34m.\u001b[0m\u001b[0mopen\u001b[0m\u001b[0;34m(\u001b[0m\u001b[0mfilename\u001b[0m\u001b[0;34m,\u001b[0m \u001b[0;34m\"rb\"\u001b[0m\u001b[0;34m)\u001b[0m\u001b[0;34m\u001b[0m\u001b[0;34m\u001b[0m\u001b[0m\n\u001b[0m\u001b[1;32m   3506\u001b[0m         \u001b[0mexclusive_fp\u001b[0m \u001b[0;34m=\u001b[0m \u001b[0;32mTrue\u001b[0m\u001b[0;34m\u001b[0m\u001b[0;34m\u001b[0m\u001b[0m\n\u001b[1;32m   3507\u001b[0m     \u001b[0;32melse\u001b[0m\u001b[0;34m:\u001b[0m\u001b[0;34m\u001b[0m\u001b[0;34m\u001b[0m\u001b[0m\n",
      "\u001b[0;31mFileNotFoundError\u001b[0m: [Errno 2] No such file or directory: '/content/anik_check.png'"
     ]
    }
   ],
   "source": [
    "# Cell 1: Imports and Setup\n",
    "import torch\n",
    "import torch.nn as nn\n",
    "from torchvision import transforms\n",
    "from PIL import Image\n",
    "import numpy as np\n",
    "from sklearn.metrics.pairwise import cosine_similarity\n",
    "import matplotlib.pyplot as plt\n",
    "\n",
    "# Cell 2: Define CNN Model\n",
    "class SignatureCNN(nn.Module):\n",
    "    def __init__(self):\n",
    "        super(SignatureCNN, self).__init__()\n",
    "        self.features = nn.Sequential(\n",
    "            nn.Conv2d(1, 32, 3, padding=1),\n",
    "            nn.ReLU(),\n",
    "            nn.MaxPool2d(2),\n",
    "            nn.Conv2d(32, 64, 3, padding=1),\n",
    "            nn.ReLU(),\n",
    "            nn.MaxPool2d(2),\n",
    "        )\n",
    "        self.flatten = nn.Flatten()\n",
    "        self.fc = nn.Linear(64 * 32 * 32, 256)\n",
    "\n",
    "    def forward(self, x):\n",
    "        x = self.features(x)\n",
    "        x = self.flatten(x)\n",
    "        x = self.fc(x)\n",
    "        return x\n",
    "\n",
    "# Cell 3: Image Preprocessing Function\n",
    "transform = transforms.Compose([\n",
    "    transforms.Grayscale(),\n",
    "    transforms.Resize((128, 128)),\n",
    "    transforms.ToTensor()\n",
    "])\n",
    "\n",
    "def image_to_vector(model, image_path):\n",
    "    image = Image.open(image_path).convert(\"RGB\")\n",
    "    tensor = transform(image).unsqueeze(0)\n",
    "    with torch.no_grad():\n",
    "        embedding = model(tensor)\n",
    "    return embedding.squeeze().numpy()\n",
    "\n",
    "# Cell 4: Similarity Comparison Function\n",
    "def compare_vectors(vec1, vec2):\n",
    "    vec1 = np.array(vec1).reshape(1, -1)\n",
    "    vec2 = np.array(vec2).reshape(1, -1)\n",
    "    similarity = cosine_similarity(vec1, vec2)[0][0]\n",
    "    return similarity\n",
    "\n",
    "# Cell 5: Simulate DB Fetch (Dummy Vector)\n",
    "def get_vector_from_database(account_id):\n",
    "    return image_to_vector(model, \"/content/anik_bank.png\")\n",
    "\n",
    "# Cell 6: Load Model and Evaluate\n",
    "model = SignatureCNN()\n",
    "model.eval()\n",
    "\n",
    "# Load uploaded and stored signature images\n",
    "uploaded_vec = image_to_vector(model, \"/content/anik_check.png\")\n",
    "stored_vec = get_vector_from_database(account_id=\"123456\")\n",
    "\n",
    "# Compare\n",
    "similarity = compare_vectors(uploaded_vec, stored_vec)\n",
    "print(f\"Cosine Similarity: {similarity:.4f}\")\n",
    "\n",
    "if similarity >= 0.85:\n",
    "    print(\"Genuine Signature\")\n",
    "else:\n",
    "    print(\"Forged Signature\")\n",
    "\n",
    "# Cell 7: Visualize both images\n",
    "uploaded_img = Image.open(\"/content/anik_clean_signature.png\")\n",
    "stored_img = Image.open(\"/content/anik_forged_signature.png\")\n",
    "\n",
    "fig, axs = plt.subplots(1, 2, figsize=(10, 4))\n",
    "axs[0].imshow(uploaded_img, cmap='gray')\n",
    "axs[0].set_title(\"Uploaded Signature\")\n",
    "axs[0].axis('off')\n",
    "\n",
    "axs[1].imshow(stored_img, cmap='gray')\n",
    "axs[1].set_title(\"Reference Signature\")\n",
    "axs[1].axis('off')\n",
    "\n",
    "plt.tight_layout()\n",
    "plt.show()\n",
    "\n"
   ]
  }
 ],
 "metadata": {
  "colab": {
   "authorship_tag": "ABX9TyOR0sSgowfwymU+8bSKWb6f",
   "mount_file_id": "1tKjed5KWTQQYtghRfWA2R_zFyt4UbyOZ",
   "provenance": []
  },
  "kernelspec": {
   "display_name": "Python 3 (ipykernel)",
   "language": "python",
   "name": "python3"
  },
  "language_info": {
   "codemirror_mode": {
    "name": "ipython",
    "version": 3
   },
   "file_extension": ".py",
   "mimetype": "text/x-python",
   "name": "python",
   "nbconvert_exporter": "python",
   "pygments_lexer": "ipython3",
   "version": "3.10.13"
  }
 },
 "nbformat": 4,
 "nbformat_minor": 4
}
