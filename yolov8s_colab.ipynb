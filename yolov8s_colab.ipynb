{
 "cells": [
  {
   "cell_type": "code",
   "execution_count": 13,
   "metadata": {
    "colab": {
     "base_uri": "https://localhost:8080/"
    },
    "executionInfo": {
     "elapsed": 102705,
     "status": "ok",
     "timestamp": 1747887142697,
     "user": {
      "displayName": "Shawon Sarowar Nirob",
      "userId": "17918485046439093245"
     },
     "user_tz": -360
    },
    "id": "N_OtEtfBWs1W",
    "outputId": "47e70c07-0d93-44e8-e28b-6aaabfa98c04"
   },
   "outputs": [
    {
     "name": "stdout",
     "output_type": "stream",
     "text": [
      "Requirement already satisfied: torch in /Users/shawon/.pyenv/versions/3.10.13/lib/python3.10/site-packages (2.7.0)\n",
      "Requirement already satisfied: torchvision in /Users/shawon/.pyenv/versions/3.10.13/lib/python3.10/site-packages (0.22.0)\n",
      "Requirement already satisfied: torchaudio in /Users/shawon/.pyenv/versions/3.10.13/lib/python3.10/site-packages (2.7.0)\n",
      "Requirement already satisfied: filelock in /Users/shawon/.pyenv/versions/3.10.13/lib/python3.10/site-packages (from torch) (3.18.0)\n",
      "Requirement already satisfied: typing-extensions>=4.10.0 in /Users/shawon/.pyenv/versions/3.10.13/lib/python3.10/site-packages (from torch) (4.13.2)\n",
      "Requirement already satisfied: sympy>=1.13.3 in /Users/shawon/.pyenv/versions/3.10.13/lib/python3.10/site-packages (from torch) (1.14.0)\n",
      "Requirement already satisfied: networkx in /Users/shawon/.pyenv/versions/3.10.13/lib/python3.10/site-packages (from torch) (3.4.2)\n",
      "Requirement already satisfied: jinja2 in /Users/shawon/.pyenv/versions/3.10.13/lib/python3.10/site-packages (from torch) (3.1.6)\n",
      "Requirement already satisfied: fsspec in /Users/shawon/.pyenv/versions/3.10.13/lib/python3.10/site-packages (from torch) (2025.5.0)\n",
      "Requirement already satisfied: numpy in /Users/shawon/.pyenv/versions/3.10.13/lib/python3.10/site-packages (from torchvision) (2.2.5)\n",
      "Requirement already satisfied: pillow!=8.3.*,>=5.3.0 in /Users/shawon/.pyenv/versions/3.10.13/lib/python3.10/site-packages (from torchvision) (11.2.1)\n",
      "Requirement already satisfied: mpmath<1.4,>=1.1.0 in /Users/shawon/.pyenv/versions/3.10.13/lib/python3.10/site-packages (from sympy>=1.13.3->torch) (1.3.0)\n",
      "Requirement already satisfied: MarkupSafe>=2.0 in /Users/shawon/.pyenv/versions/3.10.13/lib/python3.10/site-packages (from jinja2->torch) (3.0.2)\n",
      "Note: you may need to restart the kernel to use updated packages.\n"
     ]
    }
   ],
   "source": [
    "pip install torch torchvision torchaudio\n"
   ]
  },
  {
   "cell_type": "code",
   "execution_count": 14,
   "metadata": {
    "colab": {
     "base_uri": "https://localhost:8080/"
    },
    "executionInfo": {
     "elapsed": 5743,
     "status": "ok",
     "timestamp": 1747887167899,
     "user": {
      "displayName": "Shawon Sarowar Nirob",
      "userId": "17918485046439093245"
     },
     "user_tz": -360
    },
    "id": "dgTb0fWXYy-6",
    "outputId": "5de2fc7c-ef51-44c4-90ff-58a77a14d5af"
   },
   "outputs": [
    {
     "name": "stdout",
     "output_type": "stream",
     "text": [
      "Requirement already satisfied: ultralytics in /Users/shawon/.pyenv/versions/3.10.13/lib/python3.10/site-packages (8.3.143)\n",
      "Requirement already satisfied: numpy>=1.23.0 in /Users/shawon/.pyenv/versions/3.10.13/lib/python3.10/site-packages (from ultralytics) (2.2.5)\n",
      "Requirement already satisfied: matplotlib>=3.3.0 in /Users/shawon/.pyenv/versions/3.10.13/lib/python3.10/site-packages (from ultralytics) (3.10.3)\n",
      "Requirement already satisfied: opencv-python>=4.6.0 in /Users/shawon/.pyenv/versions/3.10.13/lib/python3.10/site-packages (from ultralytics) (4.11.0.86)\n",
      "Requirement already satisfied: pillow>=7.1.2 in /Users/shawon/.pyenv/versions/3.10.13/lib/python3.10/site-packages (from ultralytics) (11.2.1)\n",
      "Requirement already satisfied: pyyaml>=5.3.1 in /Users/shawon/.pyenv/versions/3.10.13/lib/python3.10/site-packages (from ultralytics) (6.0.2)\n",
      "Requirement already satisfied: requests>=2.23.0 in /Users/shawon/.pyenv/versions/3.10.13/lib/python3.10/site-packages (from ultralytics) (2.32.3)\n",
      "Requirement already satisfied: scipy>=1.4.1 in /Users/shawon/.pyenv/versions/3.10.13/lib/python3.10/site-packages (from ultralytics) (1.15.3)\n",
      "Requirement already satisfied: torch>=1.8.0 in /Users/shawon/.pyenv/versions/3.10.13/lib/python3.10/site-packages (from ultralytics) (2.7.0)\n",
      "Requirement already satisfied: torchvision>=0.9.0 in /Users/shawon/.pyenv/versions/3.10.13/lib/python3.10/site-packages (from ultralytics) (0.22.0)\n",
      "Requirement already satisfied: tqdm>=4.64.0 in /Users/shawon/.pyenv/versions/3.10.13/lib/python3.10/site-packages (from ultralytics) (4.67.1)\n",
      "Requirement already satisfied: psutil in /Users/shawon/.pyenv/versions/3.10.13/lib/python3.10/site-packages (from ultralytics) (7.0.0)\n",
      "Requirement already satisfied: py-cpuinfo in /Users/shawon/.pyenv/versions/3.10.13/lib/python3.10/site-packages (from ultralytics) (9.0.0)\n",
      "Requirement already satisfied: pandas>=1.1.4 in /Users/shawon/.pyenv/versions/3.10.13/lib/python3.10/site-packages (from ultralytics) (2.2.3)\n",
      "Requirement already satisfied: ultralytics-thop>=2.0.0 in /Users/shawon/.pyenv/versions/3.10.13/lib/python3.10/site-packages (from ultralytics) (2.0.14)\n",
      "Requirement already satisfied: contourpy>=1.0.1 in /Users/shawon/.pyenv/versions/3.10.13/lib/python3.10/site-packages (from matplotlib>=3.3.0->ultralytics) (1.3.2)\n",
      "Requirement already satisfied: cycler>=0.10 in /Users/shawon/.pyenv/versions/3.10.13/lib/python3.10/site-packages (from matplotlib>=3.3.0->ultralytics) (0.12.1)\n",
      "Requirement already satisfied: fonttools>=4.22.0 in /Users/shawon/.pyenv/versions/3.10.13/lib/python3.10/site-packages (from matplotlib>=3.3.0->ultralytics) (4.58.0)\n",
      "Requirement already satisfied: kiwisolver>=1.3.1 in /Users/shawon/.pyenv/versions/3.10.13/lib/python3.10/site-packages (from matplotlib>=3.3.0->ultralytics) (1.4.8)\n",
      "Requirement already satisfied: packaging>=20.0 in /Users/shawon/.pyenv/versions/3.10.13/lib/python3.10/site-packages (from matplotlib>=3.3.0->ultralytics) (24.2)\n",
      "Requirement already satisfied: pyparsing>=2.3.1 in /Users/shawon/.pyenv/versions/3.10.13/lib/python3.10/site-packages (from matplotlib>=3.3.0->ultralytics) (3.2.3)\n",
      "Requirement already satisfied: python-dateutil>=2.7 in /Users/shawon/.pyenv/versions/3.10.13/lib/python3.10/site-packages (from matplotlib>=3.3.0->ultralytics) (2.9.0.post0)\n",
      "Requirement already satisfied: pytz>=2020.1 in /Users/shawon/.pyenv/versions/3.10.13/lib/python3.10/site-packages (from pandas>=1.1.4->ultralytics) (2025.2)\n",
      "Requirement already satisfied: tzdata>=2022.7 in /Users/shawon/.pyenv/versions/3.10.13/lib/python3.10/site-packages (from pandas>=1.1.4->ultralytics) (2025.2)\n",
      "Requirement already satisfied: six>=1.5 in /Users/shawon/.pyenv/versions/3.10.13/lib/python3.10/site-packages (from python-dateutil>=2.7->matplotlib>=3.3.0->ultralytics) (1.17.0)\n",
      "Requirement already satisfied: charset-normalizer<4,>=2 in /Users/shawon/.pyenv/versions/3.10.13/lib/python3.10/site-packages (from requests>=2.23.0->ultralytics) (3.4.2)\n",
      "Requirement already satisfied: idna<4,>=2.5 in /Users/shawon/.pyenv/versions/3.10.13/lib/python3.10/site-packages (from requests>=2.23.0->ultralytics) (3.10)\n",
      "Requirement already satisfied: urllib3<3,>=1.21.1 in /Users/shawon/.pyenv/versions/3.10.13/lib/python3.10/site-packages (from requests>=2.23.0->ultralytics) (2.4.0)\n",
      "Requirement already satisfied: certifi>=2017.4.17 in /Users/shawon/.pyenv/versions/3.10.13/lib/python3.10/site-packages (from requests>=2.23.0->ultralytics) (2025.4.26)\n",
      "Requirement already satisfied: filelock in /Users/shawon/.pyenv/versions/3.10.13/lib/python3.10/site-packages (from torch>=1.8.0->ultralytics) (3.18.0)\n",
      "Requirement already satisfied: typing-extensions>=4.10.0 in /Users/shawon/.pyenv/versions/3.10.13/lib/python3.10/site-packages (from torch>=1.8.0->ultralytics) (4.13.2)\n",
      "Requirement already satisfied: sympy>=1.13.3 in /Users/shawon/.pyenv/versions/3.10.13/lib/python3.10/site-packages (from torch>=1.8.0->ultralytics) (1.14.0)\n",
      "Requirement already satisfied: networkx in /Users/shawon/.pyenv/versions/3.10.13/lib/python3.10/site-packages (from torch>=1.8.0->ultralytics) (3.4.2)\n",
      "Requirement already satisfied: jinja2 in /Users/shawon/.pyenv/versions/3.10.13/lib/python3.10/site-packages (from torch>=1.8.0->ultralytics) (3.1.6)\n",
      "Requirement already satisfied: fsspec in /Users/shawon/.pyenv/versions/3.10.13/lib/python3.10/site-packages (from torch>=1.8.0->ultralytics) (2025.5.0)\n",
      "Requirement already satisfied: mpmath<1.4,>=1.1.0 in /Users/shawon/.pyenv/versions/3.10.13/lib/python3.10/site-packages (from sympy>=1.13.3->torch>=1.8.0->ultralytics) (1.3.0)\n",
      "Requirement already satisfied: MarkupSafe>=2.0 in /Users/shawon/.pyenv/versions/3.10.13/lib/python3.10/site-packages (from jinja2->torch>=1.8.0->ultralytics) (3.0.2)\n",
      "Note: you may need to restart the kernel to use updated packages.\n"
     ]
    }
   ],
   "source": [
    "pip install ultralytics\n"
   ]
  },
  {
   "cell_type": "code",
   "execution_count": 15,
   "metadata": {
    "colab": {
     "base_uri": "https://localhost:8080/"
    },
    "executionInfo": {
     "elapsed": 11687,
     "status": "ok",
     "timestamp": 1747887187777,
     "user": {
      "displayName": "Shawon Sarowar Nirob",
      "userId": "17918485046439093245"
     },
     "user_tz": -360
    },
    "id": "or5hTGp_bpyF",
    "outputId": "50752e81-8598-4243-c41e-fa87720aa714"
   },
   "outputs": [
    {
     "name": "stdout",
     "output_type": "stream",
     "text": [
      "Requirement already satisfied: numpy in /Users/shawon/.pyenv/versions/3.10.13/lib/python3.10/site-packages (2.2.5)\n",
      "Requirement already satisfied: opencv-python in /Users/shawon/.pyenv/versions/3.10.13/lib/python3.10/site-packages (4.11.0.86)\n",
      "Requirement already satisfied: matplotlib in /Users/shawon/.pyenv/versions/3.10.13/lib/python3.10/site-packages (3.10.3)\n",
      "Requirement already satisfied: contourpy>=1.0.1 in /Users/shawon/.pyenv/versions/3.10.13/lib/python3.10/site-packages (from matplotlib) (1.3.2)\n",
      "Requirement already satisfied: cycler>=0.10 in /Users/shawon/.pyenv/versions/3.10.13/lib/python3.10/site-packages (from matplotlib) (0.12.1)\n",
      "Requirement already satisfied: fonttools>=4.22.0 in /Users/shawon/.pyenv/versions/3.10.13/lib/python3.10/site-packages (from matplotlib) (4.58.0)\n",
      "Requirement already satisfied: kiwisolver>=1.3.1 in /Users/shawon/.pyenv/versions/3.10.13/lib/python3.10/site-packages (from matplotlib) (1.4.8)\n",
      "Requirement already satisfied: packaging>=20.0 in /Users/shawon/.pyenv/versions/3.10.13/lib/python3.10/site-packages (from matplotlib) (24.2)\n",
      "Requirement already satisfied: pillow>=8 in /Users/shawon/.pyenv/versions/3.10.13/lib/python3.10/site-packages (from matplotlib) (11.2.1)\n",
      "Requirement already satisfied: pyparsing>=2.3.1 in /Users/shawon/.pyenv/versions/3.10.13/lib/python3.10/site-packages (from matplotlib) (3.2.3)\n",
      "Requirement already satisfied: python-dateutil>=2.7 in /Users/shawon/.pyenv/versions/3.10.13/lib/python3.10/site-packages (from matplotlib) (2.9.0.post0)\n",
      "Requirement already satisfied: six>=1.5 in /Users/shawon/.pyenv/versions/3.10.13/lib/python3.10/site-packages (from python-dateutil>=2.7->matplotlib) (1.17.0)\n",
      "Note: you may need to restart the kernel to use updated packages.\n"
     ]
    }
   ],
   "source": [
    "pip install numpy opencv-python matplotlib"
   ]
  },
  {
   "cell_type": "code",
   "execution_count": 19,
   "metadata": {
    "colab": {
     "base_uri": "https://localhost:8080/",
     "height": 506
    },
    "executionInfo": {
     "elapsed": 3115,
     "status": "ok",
     "timestamp": 1747887270355,
     "user": {
      "displayName": "Shawon Sarowar Nirob",
      "userId": "17918485046439093245"
     },
     "user_tz": -360
    },
    "id": "pK-yAxA9cCtb",
    "outputId": "065c4249-b1cb-4a11-dae1-2f85c1b65d04"
   },
   "outputs": [
    {
     "name": "stdout",
     "output_type": "stream",
     "text": [
      "\n",
      "image 1/1 /Users/shawon/builder/deep-learning/check-signature-verify/check_signature_test_case/check/test_a_check.jpeg: 288x640 1 signature, 92.9ms\n",
      "Speed: 1.9ms preprocess, 92.9ms inference, 4.6ms postprocess per image at shape (1, 3, 288, 640)\n"
     ]
    }
   ],
   "source": [
    "from ultralytics import YOLO\n",
    "\n",
    "# Load the model from the file\n",
    "model = YOLO(\"yolov8s.pt\")\n",
    "\n",
    "# Run inference on an image (replace with your image)\n",
    "results = model(\"check_signature_test_case/check/test_a_check.jpeg\")  # or use a numpy array\n",
    "\n",
    "# Show the results\n",
    "results[0].show()\n"
   ]
  },
  {
   "cell_type": "code",
   "execution_count": 22,
   "metadata": {
    "colab": {
     "base_uri": "https://localhost:8080/"
    },
    "executionInfo": {
     "elapsed": 782,
     "status": "ok",
     "timestamp": 1747887382544,
     "user": {
      "displayName": "Shawon Sarowar Nirob",
      "userId": "17918485046439093245"
     },
     "user_tz": -360
    },
    "id": "UWU0yHnwcuhT",
    "outputId": "5e6d2b3d-b853-4168-f489-f6f6ba9c17b3"
   },
   "outputs": [
    {
     "name": "stdout",
     "output_type": "stream",
     "text": [
      "\n",
      "0: 288x640 1 signature, 57.2ms\n",
      "Speed: 2.5ms preprocess, 57.2ms inference, 0.8ms postprocess per image at shape (1, 3, 288, 640)\n",
      "Cropped signature saved to: signature_crop_1.jpg\n"
     ]
    },
    {
     "data": {
      "image/png": "[encoded data removed]",
      "text/plain": [
       "<Figure size 640x480 with 1 Axes>"
      ]
     },
     "metadata": {},
     "output_type": "display_data"
    }
   ],
   "source": [
    "from ultralytics import YOLO\n",
    "import cv2\n",
    "import matplotlib.pyplot as plt\n",
    "\n",
    "# Load the YOLOv8 signature detector\n",
    "model = YOLO(\"yolov8s.pt\")\n",
    "\n",
    "# Load image\n",
    "image_path = \"check_signature_test_case/check/test_a_check.jpeg\"\n",
    "image = cv2.imread(image_path)\n",
    "\n",
    "# Run inference\n",
    "results = model(image)\n",
    "\n",
    "# Extract detections\n",
    "boxes = results[0].boxes  # Boxes object\n",
    "\n",
    "for i, box in enumerate(boxes):\n",
    "    # xyxy format (x1, y1, x2, y2)\n",
    "    x1, y1, x2, y2 = map(int, box.xyxy[0].tolist())\n",
    "\n",
    "    # Crop the signature\n",
    "    cropped = image[y1:y2, x1:x2]\n",
    "\n",
    "    # Save or display the crop\n",
    "    crop_path = f\"signature_crop_{i+1}.jpg\"\n",
    "    cv2.imwrite(crop_path, cropped)\n",
    "    print(f\"Cropped signature saved to: {crop_path}\")\n",
    "\n",
    "    # Optional: show the cropped signature\n",
    "    plt.imshow(cv2.cvtColor(cropped, cv2.COLOR_BGR2RGB))\n",
    "    #plt.title(f\"Signature {i+1}\")\n",
    "    plt.axis('off')\n",
    "    plt.show()"
   ]
  },
  {
   "cell_type": "code",
   "execution_count": 23,
   "metadata": {
    "colab": {
     "base_uri": "https://localhost:8080/",
     "height": 325
    },
    "executionInfo": {
     "elapsed": 402,
     "status": "ok",
     "timestamp": 1747825042139,
     "user": {
      "displayName": "Shawon Sarowar Nirob",
      "userId": "17918485046439093245"
     },
     "user_tz": -360
    },
    "id": "9jl8RHcwe2CA",
    "outputId": "a0af1d6b-088c-4b7c-e8ff-9a32cc567b3d"
   },
   "outputs": [
    {
     "name": "stdout",
     "output_type": "stream",
     "text": [
      "\n",
      "0: 288x640 1 signature, 75.0ms\n",
      "Speed: 1.8ms preprocess, 75.0ms inference, 0.5ms postprocess per image at shape (1, 3, 288, 640)\n",
      "Saved denoised signature: denoised_signature_1.png\n"
     ]
    },
    {
     "data": {
      "image/png": "[encoded data removed]",
      "text/plain": [
       "<Figure size 640x480 with 1 Axes>"
      ]
     },
     "metadata": {},
     "output_type": "display_data"
    }
   ],
   "source": [
    "import cv2\n",
    "import numpy as np\n",
    "import matplotlib.pyplot as plt\n",
    "from ultralytics import YOLO\n",
    "\n",
    "# Load model and image\n",
    "model = YOLO(\"yolov8s.pt\")\n",
    "# Load image\n",
    "image_path = \"check_signature_test_case/check/test_a_check.jpeg\"\n",
    "\n",
    "image = cv2.imread(image_path)\n",
    "results = model(image)\n",
    "\n",
    "# Process each detected signature\n",
    "for i, box in enumerate(results[0].boxes):\n",
    "    x1, y1, x2, y2 = map(int, box.xyxy[0].tolist())\n",
    "    cropped = image[y1:y2, x1:x2]\n",
    "\n",
    "    # Step 1: Convert to grayscale\n",
    "    gray = cv2.cvtColor(cropped, cv2.COLOR_BGR2GRAY)\n",
    "\n",
    "    # Step 2: Remove background noise using bilateral filter\n",
    "    filtered = cv2.bilateralFilter(gray, 11, 75, 75)\n",
    "\n",
    "    # Step 3: Apply adaptive threshold to separate ink from background\n",
    "    thresh = cv2.adaptiveThreshold(filtered, 255,\n",
    "                                   cv2.ADAPTIVE_THRESH_GAUSSIAN_C,\n",
    "                                   cv2.THRESH_BINARY_INV, 15, 8)\n",
    "\n",
    "    # Step 4: Morphological operations to remove noise\n",
    "    kernel = np.ones((2, 2), np.uint8)\n",
    "    denoised = cv2.morphologyEx(thresh, cv2.MORPH_OPEN, kernel, iterations=1)\n",
    "\n",
    "    # Save and show the result\n",
    "    result_path = f\"denoised_signature_{i+1}.png\"\n",
    "    cv2.imwrite(result_path, denoised)\n",
    "    print(f\"Saved denoised signature: {result_path}\")\n",
    "\n",
    "    plt.imshow(denoised, cmap='gray')\n",
    "    #plt.title(f\"Denoised Signature {i+1}\")\n",
    "    plt.axis('off')\n",
    "    plt.show()"
   ]
  },
  {
   "cell_type": "code",
   "execution_count": 15,
   "metadata": {
    "colab": {
     "base_uri": "https://localhost:8080/",
     "height": 325
    },
    "executionInfo": {
     "elapsed": 395,
     "status": "ok",
     "timestamp": 1747825720136,
     "user": {
      "displayName": "Shawon Sarowar Nirob",
      "userId": "17918485046439093245"
     },
     "user_tz": -360
    },
    "id": "omQVKBIVhyQu",
    "outputId": "3bbf061f-84f1-43f2-8c9b-f6001e4621c4"
   },
   "outputs": [
    {
     "name": "stdout",
     "output_type": "stream",
     "text": [
      "\n",
      "0: 416x640 1 signature, 91.0ms\n",
      "Speed: 1.7ms preprocess, 91.0ms inference, 0.4ms postprocess per image at shape (1, 3, 416, 640)\n",
      "Saved clean signature: check_signature_test_case/process_signature/tareq_2.jpeg\n"
     ]
    },
    {
     "data": {
      "image/png": "[encoded data removed]",
      "text/plain": [
       "<Figure size 640x480 with 1 Axes>"
      ]
     },
     "metadata": {},
     "output_type": "display_data"
    }
   ],
   "source": [
    "import os\n",
    "import cv2\n",
    "import numpy as np\n",
    "import matplotlib.pyplot as plt\n",
    "from ultralytics import YOLO\n",
    "\n",
    "def isolate_signature(image):\n",
    "    gray = cv2.cvtColor(image, cv2.COLOR_BGR2GRAY)\n",
    "\n",
    "    # Threshold to binary image (signature in white, background in black)\n",
    "    _, binary = cv2.threshold(gray, 0, 255, cv2.THRESH_BINARY_INV + cv2.THRESH_OTSU)\n",
    "\n",
    "    # Find contours\n",
    "    contours, _ = cv2.findContours(binary, cv2.RETR_EXTERNAL, cv2.CHAIN_APPROX_SIMPLE)\n",
    "\n",
    "    # Create empty mask to draw filtered contours\n",
    "    mask = np.zeros_like(binary)\n",
    "\n",
    "    # Filter and draw only meaningful signature-like contours\n",
    "    for cnt in contours:\n",
    "        area = cv2.contourArea(cnt)\n",
    "        x, y, w, h = cv2.boundingRect(cnt)\n",
    "\n",
    "        # Filter conditions\n",
    "        if area > 100 and w > 10 and h > 10:  # Skip tiny specks\n",
    "            mask = cv2.drawContours(mask, [cnt], -1, 255, -1)  # Fill the contour\n",
    "\n",
    "    # Final result (bitwise AND to extract the denoised signature)\n",
    "    result = cv2.bitwise_and(binary, mask)\n",
    "\n",
    "    return result\n",
    "\n",
    "# Load model and image\n",
    "model = YOLO(\"yolov8s.pt\")\n",
    "# Load image\n",
    "image_path = \"check_signature_test_case/signature/tareq_2.jpeg\"\n",
    "\n",
    "image = cv2.imread(image_path)\n",
    "results = model(image)\n",
    "\n",
    "# Process each detected signature box\n",
    "for i, box in enumerate(results[0].boxes):\n",
    "    x1, y1, x2, y2 = map(int, box.xyxy[0].tolist())\n",
    "    cropped = image[y1:y2, x1:x2]\n",
    "\n",
    "    # Isolate signature\n",
    "    cleaned = isolate_signature(cropped)\n",
    "\n",
    "    # Get base name from image_path (\"bangla_2\" from \"bangla_2.jpeg\")\n",
    "    base_name = os.path.splitext(os.path.basename(image_path))[0]\n",
    "\n",
    "    # Save and display\n",
    "    output_path = f\"check_signature_test_case/process_signature/{base_name}.jpeg\"\n",
    "    cv2.imwrite(output_path, cleaned)\n",
    "    print(f\"Saved clean signature: {output_path}\")\n",
    "\n",
    "    plt.imshow(cleaned, cmap='gray')\n",
    "    #plt.title(f\"Clean Signature {i+1}\")\n",
    "    plt.axis('off')\n",
    "    plt.show()"
   ]
  }
 ],
 "metadata": {
  "accelerator": "GPU",
  "colab": {
   "authorship_tag": "ABX9TyPSb2dom561W7OIyFpmozCS",
   "gpuType": "T4",
   "mount_file_id": "1owY9NRwiVfi9JcTPi66IsGiXZ0A5oAIP",
   "provenance": []
  },
  "kernelspec": {
   "display_name": "Python 3 (ipykernel)",
   "language": "python",
   "name": "python3"
  },
  "language_info": {
   "codemirror_mode": {
    "name": "ipython",
    "version": 3
   },
   "file_extension": ".py",
   "mimetype": "text/x-python",
   "name": "python",
   "nbconvert_exporter": "python",
   "pygments_lexer": "ipython3",
   "version": "3.10.13"
  }
 },
 "nbformat": 4,
 "nbformat_minor": 4
}
